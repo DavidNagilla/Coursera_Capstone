{
 "cells": [
  {
   "cell_type": "markdown",
   "metadata": {},
   "source": [
    "# Lunchanator: The lunch deciding utility"
   ]
  },
  {
   "cell_type": "markdown",
   "metadata": {},
   "source": [
    "#### Recommendation for a lunch group"
   ]
  },
  {
   "cell_type": "markdown",
   "metadata": {},
   "source": [
    "Importing needed packages"
   ]
  },
  {
   "cell_type": "code",
   "execution_count": 3,
   "metadata": {},
   "outputs": [],
   "source": [
    "import requests\n",
    "import json\n",
    "import geocoder\n",
    "import numpy as np\n",
    "import pandas as pd"
   ]
  },
  {
   "cell_type": "markdown",
   "metadata": {},
   "source": [
    "We used the Bing geocoder because the Google limit for the month was reached via other projects."
   ]
  },
  {
   "cell_type": "code",
   "execution_count": 14,
   "metadata": {},
   "outputs": [],
   "source": [
    "g = geocoder.bing('Brooklyn, NY', key='Aj6iRGHOxlWE8l0T9VNPg9WCWv9jKQdeEk1P5bd-bqMaHtf8ukyJwAbChFDEfYFJ')"
   ]
  },
  {
   "cell_type": "markdown",
   "metadata": {},
   "source": [
    "Foursquare request for restaurants in the Brooklyn, NY area."
   ]
  },
  {
   "cell_type": "code",
   "execution_count": 17,
   "metadata": {},
   "outputs": [],
   "source": [
    "url = 'https://api.foursquare.com/v2/venues/explore'\n",
    "\n",
    "params = dict(\n",
    "  client_id = '0GPMCSTZ5SOR20WJQNQWRXM0YHXQDMIKAQKHMTPQM2FPHPES', # your Foursquare ID\n",
    "  client_secret = 'N2VIOQ1Y45VH2MCATYXQJQZS2AEALSIC4UPVWKUGBFU0GSZS', # your Foursquare Secret\n",
    "  v = '20180605', # Foursquare API version\n",
    "  ll = str(g.json['lat']) + ',' + str(g.json['lng']),\n",
    "  query = 'restaurant',\n",
    "  radius = 1000,\n",
    "  limit = 50,\n",
    ")\n",
    "resp = requests.get(url=url, params=params)\n",
    "data = json.loads(resp.text)"
   ]
  },
  {
   "cell_type": "markdown",
   "metadata": {},
   "source": [
    "Parsing results into a list containing restaurant names."
   ]
  },
  {
   "cell_type": "code",
   "execution_count": 18,
   "metadata": {},
   "outputs": [],
   "source": [
    "restaurants = []\n",
    "for m in data['response']['groups'][0]['items']:\n",
    "    restaurants.append(m['venue']['name'])"
   ]
  },
  {
   "cell_type": "markdown",
   "metadata": {},
   "source": [
    "This block generates a pretend dataset of 20 users each having selected 15 \"good\" and 15 \"bad\" restaurants each. Note that no user can have the same restaurant in both categories."
   ]
  },
  {
   "cell_type": "code",
   "execution_count": 19,
   "metadata": {},
   "outputs": [],
   "source": [
    "d = {}\n",
    "d['users'] = ['user'+str(i) for i in range(20)]\n",
    "d['good restaurants'] = []\n",
    "d['bad restaurants'] = []\n",
    "for i in range(1,21):\n",
    "    restaurant_list = np.random.choice(restaurants, size=30, replace=False)\n",
    "    d['good restaurants'].append(restaurant_list[:15])\n",
    "    d['bad restaurants'].append(restaurant_list[15:])"
   ]
  },
  {
   "cell_type": "markdown",
   "metadata": {},
   "source": [
    "Transforming the above generated data into a dataframe."
   ]
  },
  {
   "cell_type": "code",
   "execution_count": 20,
   "metadata": {},
   "outputs": [],
   "source": [
    "user_df = pd.DataFrame.from_dict(d)"
   ]
  },
  {
   "cell_type": "code",
   "execution_count": 21,
   "metadata": {},
   "outputs": [],
   "source": [
    "user_df = user_df[['users','good restaurants','bad restaurants']]"
   ]
  },
  {
   "cell_type": "markdown",
   "metadata": {},
   "source": [
    "An example of user data."
   ]
  },
  {
   "cell_type": "code",
   "execution_count": 22,
   "metadata": {},
   "outputs": [
    {
     "data": {
      "text/html": [
       "<div>\n",
       "<style scoped>\n",
       "    .dataframe tbody tr th:only-of-type {\n",
       "        vertical-align: middle;\n",
       "    }\n",
       "\n",
       "    .dataframe tbody tr th {\n",
       "        vertical-align: top;\n",
       "    }\n",
       "\n",
       "    .dataframe thead th {\n",
       "        text-align: right;\n",
       "    }\n",
       "</style>\n",
       "<table border=\"1\" class=\"dataframe\">\n",
       "  <thead>\n",
       "    <tr style=\"text-align: right;\">\n",
       "      <th></th>\n",
       "      <th>users</th>\n",
       "      <th>good restaurants</th>\n",
       "      <th>bad restaurants</th>\n",
       "    </tr>\n",
       "  </thead>\n",
       "  <tbody>\n",
       "    <tr>\n",
       "      <th>0</th>\n",
       "      <td>user0</td>\n",
       "      <td>[Doner Kebab NYC, Beasts &amp; Bottles, Wild Ginge...</td>\n",
       "      <td>[One Girl Cookies, Pio Bagel, Sushi Gallery, F...</td>\n",
       "    </tr>\n",
       "    <tr>\n",
       "      <th>1</th>\n",
       "      <td>user1</td>\n",
       "      <td>[Henry Public, two8two Bar &amp; Burger, sweetgree...</td>\n",
       "      <td>[Sottocasa Pizzeria, Chez Moi, Panera Bread, W...</td>\n",
       "    </tr>\n",
       "    <tr>\n",
       "      <th>2</th>\n",
       "      <td>user2</td>\n",
       "      <td>[Iron Chef House, Oh! Dumplings, Doner Kebab N...</td>\n",
       "      <td>[Grand Army, Shelsky's of Brooklyn, Court Stre...</td>\n",
       "    </tr>\n",
       "    <tr>\n",
       "      <th>3</th>\n",
       "      <td>user3</td>\n",
       "      <td>[Sushi Gallery, Hibino, Piz-zetta, Lassen &amp; He...</td>\n",
       "      <td>[Court Street Bagels, My Little Pizzeria, Bar ...</td>\n",
       "    </tr>\n",
       "    <tr>\n",
       "      <th>4</th>\n",
       "      <td>user4</td>\n",
       "      <td>[Sushi Gallery, Grand Army, Lillo, Pio Bagel, ...</td>\n",
       "      <td>[Rocco's Tacos and Tequila Bar Brooklyn, Bareb...</td>\n",
       "    </tr>\n",
       "  </tbody>\n",
       "</table>\n",
       "</div>"
      ],
      "text/plain": [
       "   users                                   good restaurants  \\\n",
       "0  user0  [Doner Kebab NYC, Beasts & Bottles, Wild Ginge...   \n",
       "1  user1  [Henry Public, two8two Bar & Burger, sweetgree...   \n",
       "2  user2  [Iron Chef House, Oh! Dumplings, Doner Kebab N...   \n",
       "3  user3  [Sushi Gallery, Hibino, Piz-zetta, Lassen & He...   \n",
       "4  user4  [Sushi Gallery, Grand Army, Lillo, Pio Bagel, ...   \n",
       "\n",
       "                                     bad restaurants  \n",
       "0  [One Girl Cookies, Pio Bagel, Sushi Gallery, F...  \n",
       "1  [Sottocasa Pizzeria, Chez Moi, Panera Bread, W...  \n",
       "2  [Grand Army, Shelsky's of Brooklyn, Court Stre...  \n",
       "3  [Court Street Bagels, My Little Pizzeria, Bar ...  \n",
       "4  [Rocco's Tacos and Tequila Bar Brooklyn, Bareb...  "
      ]
     },
     "execution_count": 22,
     "metadata": {},
     "output_type": "execute_result"
    }
   ],
   "source": [
    "user_df.head()"
   ]
  },
  {
   "cell_type": "markdown",
   "metadata": {},
   "source": [
    "Creating a group of 6 people at random that wish to have lunch together."
   ]
  },
  {
   "cell_type": "code",
   "execution_count": 23,
   "metadata": {},
   "outputs": [],
   "source": [
    "df_lunch_group = user_df.sample(n=6)"
   ]
  },
  {
   "cell_type": "code",
   "execution_count": 24,
   "metadata": {},
   "outputs": [],
   "source": [
    "df_lunch_group = df_lunch_group.sort_index()"
   ]
  },
  {
   "cell_type": "markdown",
   "metadata": {},
   "source": [
    "The lunch group."
   ]
  },
  {
   "cell_type": "code",
   "execution_count": 25,
   "metadata": {},
   "outputs": [
    {
     "data": {
      "text/html": [
       "<div>\n",
       "<style scoped>\n",
       "    .dataframe tbody tr th:only-of-type {\n",
       "        vertical-align: middle;\n",
       "    }\n",
       "\n",
       "    .dataframe tbody tr th {\n",
       "        vertical-align: top;\n",
       "    }\n",
       "\n",
       "    .dataframe thead th {\n",
       "        text-align: right;\n",
       "    }\n",
       "</style>\n",
       "<table border=\"1\" class=\"dataframe\">\n",
       "  <thead>\n",
       "    <tr style=\"text-align: right;\">\n",
       "      <th></th>\n",
       "      <th>users</th>\n",
       "      <th>good restaurants</th>\n",
       "      <th>bad restaurants</th>\n",
       "    </tr>\n",
       "  </thead>\n",
       "  <tbody>\n",
       "    <tr>\n",
       "      <th>12</th>\n",
       "      <td>user12</td>\n",
       "      <td>[Fast and Fresh Burrito Deli, Gregory's Coffee...</td>\n",
       "      <td>[Rocco's Tacos and Tequila Bar Brooklyn, Doner...</td>\n",
       "    </tr>\n",
       "    <tr>\n",
       "      <th>13</th>\n",
       "      <td>user13</td>\n",
       "      <td>[Grand Army, Lassen &amp; Hennigs, Maison Kayser, ...</td>\n",
       "      <td>[Hibino, French Louie, My Little Pizzeria, Mit...</td>\n",
       "    </tr>\n",
       "    <tr>\n",
       "      <th>14</th>\n",
       "      <td>user14</td>\n",
       "      <td>[Iron Chef House, Luzzo's BK, Pio Bagel, La Va...</td>\n",
       "      <td>[The Gumbo Bros, Mile End Delicatessen, Dellar...</td>\n",
       "    </tr>\n",
       "    <tr>\n",
       "      <th>16</th>\n",
       "      <td>user16</td>\n",
       "      <td>[Rocco's Tacos and Tequila Bar Brooklyn, Sushi...</td>\n",
       "      <td>[La Vara, Lassen &amp; Hennigs, Wild Ginger, Mitou...</td>\n",
       "    </tr>\n",
       "    <tr>\n",
       "      <th>18</th>\n",
       "      <td>user18</td>\n",
       "      <td>[Five Guys, sweetgreen, Damascus Bread &amp; Pastr...</td>\n",
       "      <td>[Sottocasa Pizzeria, Colonie, Grand Army, Mais...</td>\n",
       "    </tr>\n",
       "    <tr>\n",
       "      <th>19</th>\n",
       "      <td>user19</td>\n",
       "      <td>[My Little Pizzeria, La Vara, Doner Kebab NYC,...</td>\n",
       "      <td>[Colonie, Bien Cuit, Oh! Dumplings, DeKalb Mar...</td>\n",
       "    </tr>\n",
       "  </tbody>\n",
       "</table>\n",
       "</div>"
      ],
      "text/plain": [
       "     users                                   good restaurants  \\\n",
       "12  user12  [Fast and Fresh Burrito Deli, Gregory's Coffee...   \n",
       "13  user13  [Grand Army, Lassen & Hennigs, Maison Kayser, ...   \n",
       "14  user14  [Iron Chef House, Luzzo's BK, Pio Bagel, La Va...   \n",
       "16  user16  [Rocco's Tacos and Tequila Bar Brooklyn, Sushi...   \n",
       "18  user18  [Five Guys, sweetgreen, Damascus Bread & Pastr...   \n",
       "19  user19  [My Little Pizzeria, La Vara, Doner Kebab NYC,...   \n",
       "\n",
       "                                      bad restaurants  \n",
       "12  [Rocco's Tacos and Tequila Bar Brooklyn, Doner...  \n",
       "13  [Hibino, French Louie, My Little Pizzeria, Mit...  \n",
       "14  [The Gumbo Bros, Mile End Delicatessen, Dellar...  \n",
       "16  [La Vara, Lassen & Hennigs, Wild Ginger, Mitou...  \n",
       "18  [Sottocasa Pizzeria, Colonie, Grand Army, Mais...  \n",
       "19  [Colonie, Bien Cuit, Oh! Dumplings, DeKalb Mar...  "
      ]
     },
     "execution_count": 25,
     "metadata": {},
     "output_type": "execute_result"
    }
   ],
   "source": [
    "df_lunch_group"
   ]
  },
  {
   "cell_type": "markdown",
   "metadata": {},
   "source": [
    "Creating the list of restaurants that will be voted on."
   ]
  },
  {
   "cell_type": "code",
   "execution_count": 26,
   "metadata": {
    "collapsed": true
   },
   "outputs": [],
   "source": [
    "lunch_votes = [(restaurant,0) for restaurant in restaurants]"
   ]
  },
  {
   "cell_type": "code",
   "execution_count": 27,
   "metadata": {
    "collapsed": true
   },
   "outputs": [],
   "source": [
    "lunch_dict = dict(lunch_votes)"
   ]
  },
  {
   "cell_type": "markdown",
   "metadata": {},
   "source": [
    "Tallying votes."
   ]
  },
  {
   "cell_type": "code",
   "execution_count": 28,
   "metadata": {
    "collapsed": true
   },
   "outputs": [],
   "source": [
    "for rest in lunch_dict.keys():\n",
    "    for good_choice in df_lunch_group['good restaurants']:\n",
    "        if rest in good_choice:\n",
    "            lunch_dict[rest] += 1\n",
    "    for bad_choice in df_lunch_group['bad restaurants']:\n",
    "        if rest in bad_choice:\n",
    "            lunch_dict[rest] -= 1"
   ]
  },
  {
   "cell_type": "markdown",
   "metadata": {},
   "source": [
    "Conversion to properly formatted dataframe."
   ]
  },
  {
   "cell_type": "code",
   "execution_count": 29,
   "metadata": {
    "collapsed": true
   },
   "outputs": [],
   "source": [
    "d = {'restaurants': [], 'votes': []}\n",
    "for k,v in lunch_dict.items():\n",
    "    d['restaurants'].append(k)\n",
    "    d['votes'].append(v)"
   ]
  },
  {
   "cell_type": "code",
   "execution_count": 30,
   "metadata": {
    "collapsed": true
   },
   "outputs": [],
   "source": [
    "df_lunch_votes = pd.DataFrame.from_dict(d)"
   ]
  },
  {
   "cell_type": "markdown",
   "metadata": {},
   "source": [
    "Sorting the list of restaurants by vote count."
   ]
  },
  {
   "cell_type": "code",
   "execution_count": 31,
   "metadata": {
    "collapsed": true
   },
   "outputs": [],
   "source": [
    "df_lunch_votes_sorted = df_lunch_votes.sort_values('votes', ascending = False)"
   ]
  },
  {
   "cell_type": "markdown",
   "metadata": {},
   "source": [
    "The sorted list."
   ]
  },
  {
   "cell_type": "code",
   "execution_count": 32,
   "metadata": {},
   "outputs": [
    {
     "data": {
      "text/html": [
       "<div>\n",
       "<style scoped>\n",
       "    .dataframe tbody tr th:only-of-type {\n",
       "        vertical-align: middle;\n",
       "    }\n",
       "\n",
       "    .dataframe tbody tr th {\n",
       "        vertical-align: top;\n",
       "    }\n",
       "\n",
       "    .dataframe thead th {\n",
       "        text-align: right;\n",
       "    }\n",
       "</style>\n",
       "<table border=\"1\" class=\"dataframe\">\n",
       "  <thead>\n",
       "    <tr style=\"text-align: right;\">\n",
       "      <th></th>\n",
       "      <th>restaurants</th>\n",
       "      <th>votes</th>\n",
       "    </tr>\n",
       "  </thead>\n",
       "  <tbody>\n",
       "    <tr>\n",
       "      <th>2</th>\n",
       "      <td>Shelsky's of Brooklyn</td>\n",
       "      <td>3</td>\n",
       "    </tr>\n",
       "    <tr>\n",
       "      <th>5</th>\n",
       "      <td>sweetgreen</td>\n",
       "      <td>3</td>\n",
       "    </tr>\n",
       "    <tr>\n",
       "      <th>0</th>\n",
       "      <td>Queen</td>\n",
       "      <td>2</td>\n",
       "    </tr>\n",
       "    <tr>\n",
       "      <th>11</th>\n",
       "      <td>Gregory's Coffee</td>\n",
       "      <td>2</td>\n",
       "    </tr>\n",
       "    <tr>\n",
       "      <th>45</th>\n",
       "      <td>Sushi Gallery</td>\n",
       "      <td>2</td>\n",
       "    </tr>\n",
       "    <tr>\n",
       "      <th>1</th>\n",
       "      <td>Damascus Bread &amp; Pastry Shop</td>\n",
       "      <td>2</td>\n",
       "    </tr>\n",
       "    <tr>\n",
       "      <th>13</th>\n",
       "      <td>Hadramout Restaurant</td>\n",
       "      <td>2</td>\n",
       "    </tr>\n",
       "    <tr>\n",
       "      <th>12</th>\n",
       "      <td>French Louie</td>\n",
       "      <td>2</td>\n",
       "    </tr>\n",
       "    <tr>\n",
       "      <th>25</th>\n",
       "      <td>One Girl Cookies</td>\n",
       "      <td>2</td>\n",
       "    </tr>\n",
       "    <tr>\n",
       "      <th>17</th>\n",
       "      <td>Grand Army</td>\n",
       "      <td>1</td>\n",
       "    </tr>\n",
       "    <tr>\n",
       "      <th>30</th>\n",
       "      <td>Fast and Fresh Burrito Deli</td>\n",
       "      <td>1</td>\n",
       "    </tr>\n",
       "    <tr>\n",
       "      <th>24</th>\n",
       "      <td>two8two Bar &amp; Burger</td>\n",
       "      <td>1</td>\n",
       "    </tr>\n",
       "    <tr>\n",
       "      <th>22</th>\n",
       "      <td>Henry Public</td>\n",
       "      <td>1</td>\n",
       "    </tr>\n",
       "    <tr>\n",
       "      <th>43</th>\n",
       "      <td>La Vara</td>\n",
       "      <td>1</td>\n",
       "    </tr>\n",
       "    <tr>\n",
       "      <th>44</th>\n",
       "      <td>Piz-zetta</td>\n",
       "      <td>1</td>\n",
       "    </tr>\n",
       "    <tr>\n",
       "      <th>19</th>\n",
       "      <td>Ki Sushi</td>\n",
       "      <td>1</td>\n",
       "    </tr>\n",
       "    <tr>\n",
       "      <th>41</th>\n",
       "      <td>Bareburger</td>\n",
       "      <td>1</td>\n",
       "    </tr>\n",
       "    <tr>\n",
       "      <th>31</th>\n",
       "      <td>Chez Moi</td>\n",
       "      <td>1</td>\n",
       "    </tr>\n",
       "    <tr>\n",
       "      <th>34</th>\n",
       "      <td>Panera Bread</td>\n",
       "      <td>1</td>\n",
       "    </tr>\n",
       "    <tr>\n",
       "      <th>6</th>\n",
       "      <td>Sophies Cuban Cuisine</td>\n",
       "      <td>1</td>\n",
       "    </tr>\n",
       "    <tr>\n",
       "      <th>48</th>\n",
       "      <td>Iron Chef House</td>\n",
       "      <td>1</td>\n",
       "    </tr>\n",
       "    <tr>\n",
       "      <th>27</th>\n",
       "      <td>Beasts &amp; Bottles</td>\n",
       "      <td>0</td>\n",
       "    </tr>\n",
       "    <tr>\n",
       "      <th>32</th>\n",
       "      <td>Lassen &amp; Hennigs</td>\n",
       "      <td>0</td>\n",
       "    </tr>\n",
       "    <tr>\n",
       "      <th>35</th>\n",
       "      <td>Mile End Delicatessen</td>\n",
       "      <td>0</td>\n",
       "    </tr>\n",
       "    <tr>\n",
       "      <th>10</th>\n",
       "      <td>Colonie</td>\n",
       "      <td>0</td>\n",
       "    </tr>\n",
       "    <tr>\n",
       "      <th>23</th>\n",
       "      <td>Dellarocco's</td>\n",
       "      <td>0</td>\n",
       "    </tr>\n",
       "    <tr>\n",
       "      <th>36</th>\n",
       "      <td>Bar Tabac</td>\n",
       "      <td>0</td>\n",
       "    </tr>\n",
       "    <tr>\n",
       "      <th>26</th>\n",
       "      <td>Rocco's Tacos and Tequila Bar Brooklyn</td>\n",
       "      <td>0</td>\n",
       "    </tr>\n",
       "    <tr>\n",
       "      <th>4</th>\n",
       "      <td>Yemen Cafe</td>\n",
       "      <td>0</td>\n",
       "    </tr>\n",
       "    <tr>\n",
       "      <th>38</th>\n",
       "      <td>Oh! Dumplings</td>\n",
       "      <td>0</td>\n",
       "    </tr>\n",
       "    <tr>\n",
       "      <th>18</th>\n",
       "      <td>Maison Kayser</td>\n",
       "      <td>0</td>\n",
       "    </tr>\n",
       "    <tr>\n",
       "      <th>3</th>\n",
       "      <td>La Bagel Delight</td>\n",
       "      <td>0</td>\n",
       "    </tr>\n",
       "    <tr>\n",
       "      <th>15</th>\n",
       "      <td>Wild Ginger</td>\n",
       "      <td>0</td>\n",
       "    </tr>\n",
       "    <tr>\n",
       "      <th>14</th>\n",
       "      <td>Luzzo's BK</td>\n",
       "      <td>0</td>\n",
       "    </tr>\n",
       "    <tr>\n",
       "      <th>39</th>\n",
       "      <td>Mitoushi Sushi</td>\n",
       "      <td>-1</td>\n",
       "    </tr>\n",
       "    <tr>\n",
       "      <th>46</th>\n",
       "      <td>Pio Bagel</td>\n",
       "      <td>-1</td>\n",
       "    </tr>\n",
       "    <tr>\n",
       "      <th>29</th>\n",
       "      <td>Court Street Bagels</td>\n",
       "      <td>-1</td>\n",
       "    </tr>\n",
       "    <tr>\n",
       "      <th>49</th>\n",
       "      <td>Table 87</td>\n",
       "      <td>-1</td>\n",
       "    </tr>\n",
       "    <tr>\n",
       "      <th>37</th>\n",
       "      <td>Doner Kebab NYC</td>\n",
       "      <td>-1</td>\n",
       "    </tr>\n",
       "    <tr>\n",
       "      <th>28</th>\n",
       "      <td>Lillo</td>\n",
       "      <td>-1</td>\n",
       "    </tr>\n",
       "    <tr>\n",
       "      <th>16</th>\n",
       "      <td>Bien Cuit</td>\n",
       "      <td>-1</td>\n",
       "    </tr>\n",
       "    <tr>\n",
       "      <th>8</th>\n",
       "      <td>The Gumbo Bros</td>\n",
       "      <td>-1</td>\n",
       "    </tr>\n",
       "    <tr>\n",
       "      <th>33</th>\n",
       "      <td>Dos Toros Taquería</td>\n",
       "      <td>-2</td>\n",
       "    </tr>\n",
       "    <tr>\n",
       "      <th>21</th>\n",
       "      <td>Hibino</td>\n",
       "      <td>-2</td>\n",
       "    </tr>\n",
       "    <tr>\n",
       "      <th>9</th>\n",
       "      <td>My Little Pizzeria</td>\n",
       "      <td>-2</td>\n",
       "    </tr>\n",
       "    <tr>\n",
       "      <th>40</th>\n",
       "      <td>Five Guys</td>\n",
       "      <td>-3</td>\n",
       "    </tr>\n",
       "    <tr>\n",
       "      <th>42</th>\n",
       "      <td>DeKalb Market Hall</td>\n",
       "      <td>-3</td>\n",
       "    </tr>\n",
       "    <tr>\n",
       "      <th>47</th>\n",
       "      <td>River Deli</td>\n",
       "      <td>-3</td>\n",
       "    </tr>\n",
       "    <tr>\n",
       "      <th>7</th>\n",
       "      <td>Sottocasa Pizzeria</td>\n",
       "      <td>-4</td>\n",
       "    </tr>\n",
       "    <tr>\n",
       "      <th>20</th>\n",
       "      <td>Paris Baguette</td>\n",
       "      <td>-5</td>\n",
       "    </tr>\n",
       "  </tbody>\n",
       "</table>\n",
       "</div>"
      ],
      "text/plain": [
       "                               restaurants  votes\n",
       "2                    Shelsky's of Brooklyn      3\n",
       "5                               sweetgreen      3\n",
       "0                                    Queen      2\n",
       "11                        Gregory's Coffee      2\n",
       "45                           Sushi Gallery      2\n",
       "1             Damascus Bread & Pastry Shop      2\n",
       "13                    Hadramout Restaurant      2\n",
       "12                            French Louie      2\n",
       "25                        One Girl Cookies      2\n",
       "17                              Grand Army      1\n",
       "30             Fast and Fresh Burrito Deli      1\n",
       "24                    two8two Bar & Burger      1\n",
       "22                            Henry Public      1\n",
       "43                                 La Vara      1\n",
       "44                               Piz-zetta      1\n",
       "19                                Ki Sushi      1\n",
       "41                              Bareburger      1\n",
       "31                                Chez Moi      1\n",
       "34                            Panera Bread      1\n",
       "6                    Sophies Cuban Cuisine      1\n",
       "48                         Iron Chef House      1\n",
       "27                        Beasts & Bottles      0\n",
       "32                        Lassen & Hennigs      0\n",
       "35                   Mile End Delicatessen      0\n",
       "10                                 Colonie      0\n",
       "23                            Dellarocco's      0\n",
       "36                               Bar Tabac      0\n",
       "26  Rocco's Tacos and Tequila Bar Brooklyn      0\n",
       "4                               Yemen Cafe      0\n",
       "38                           Oh! Dumplings      0\n",
       "18                           Maison Kayser      0\n",
       "3                         La Bagel Delight      0\n",
       "15                             Wild Ginger      0\n",
       "14                              Luzzo's BK      0\n",
       "39                          Mitoushi Sushi     -1\n",
       "46                               Pio Bagel     -1\n",
       "29                     Court Street Bagels     -1\n",
       "49                                Table 87     -1\n",
       "37                         Doner Kebab NYC     -1\n",
       "28                                   Lillo     -1\n",
       "16                               Bien Cuit     -1\n",
       "8                           The Gumbo Bros     -1\n",
       "33                      Dos Toros Taquería     -2\n",
       "21                                  Hibino     -2\n",
       "9                       My Little Pizzeria     -2\n",
       "40                               Five Guys     -3\n",
       "42                      DeKalb Market Hall     -3\n",
       "47                              River Deli     -3\n",
       "7                       Sottocasa Pizzeria     -4\n",
       "20                          Paris Baguette     -5"
      ]
     },
     "execution_count": 32,
     "metadata": {},
     "output_type": "execute_result"
    }
   ],
   "source": [
    "df_lunch_votes_sorted"
   ]
  },
  {
   "cell_type": "markdown",
   "metadata": {},
   "source": [
    "A restaurant is selected at random from the top 8."
   ]
  },
  {
   "cell_type": "code",
   "execution_count": 33,
   "metadata": {},
   "outputs": [
    {
     "data": {
      "text/plain": [
       "1    Damascus Bread & Pastry Shop\n",
       "Name: restaurants, dtype: object"
      ]
     },
     "execution_count": 33,
     "metadata": {},
     "output_type": "execute_result"
    }
   ],
   "source": [
    "df_lunch_votes_sorted['restaurants'][:8].sample()"
   ]
  },
  {
   "cell_type": "markdown",
   "metadata": {},
   "source": [
    "#### Determining user compatibilities for <code>user 0</code>"
   ]
  },
  {
   "cell_type": "markdown",
   "metadata": {},
   "source": [
    "We create a dictionary that computes a number from -1 to 1 between <code>user0</code> and all other users. The closer the value is to 1, the more compatible the two users' preferences. Values close to -1 means the users differ significantly."
   ]
  },
  {
   "cell_type": "code",
   "execution_count": 34,
   "metadata": {
    "collapsed": true
   },
   "outputs": [],
   "source": [
    "comp = {}\n",
    "for user in user_df[user_df['users'] != 'user0'].users:\n",
    "    mySum = 0\n",
    "    count = 0\n",
    "    for restaurant in restaurants:\n",
    "        a = 0\n",
    "        b = 0\n",
    "        if restaurant in user_df['good restaurants'][user_df['users']=='user0'].tolist()[0]:\n",
    "            a = 1\n",
    "        elif restaurant in user_df['bad restaurants'][user_df['users']=='user0'].tolist()[0]:\n",
    "            a = -1\n",
    "        if restaurant in user_df['good restaurants'][user_df['users']==user].tolist()[0]:\n",
    "            b = 1\n",
    "        elif restaurant in user_df['bad restaurants'][user_df['users']==user].tolist()[0]:\n",
    "            b = -1    \n",
    "        mySum += a*b\n",
    "        count += abs(a*b)\n",
    "    if count:\n",
    "        comp[user] = round(mySum/count,2)\n",
    "    else:\n",
    "        comp[user] = 0"
   ]
  },
  {
   "cell_type": "markdown",
   "metadata": {},
   "source": [
    "We now extract the users with the highest compatibility score with <code>user0</code>."
   ]
  },
  {
   "cell_type": "code",
   "execution_count": 35,
   "metadata": {
    "collapsed": true
   },
   "outputs": [],
   "source": [
    "compMax = max(comp.values())"
   ]
  },
  {
   "cell_type": "code",
   "execution_count": 36,
   "metadata": {},
   "outputs": [
    {
     "name": "stdout",
     "output_type": "stream",
     "text": [
      "user17\n"
     ]
    }
   ],
   "source": [
    "for k,v in comp.items():\n",
    "    if comp[k] == compMax:\n",
    "        print(k)"
   ]
  },
  {
   "cell_type": "markdown",
   "metadata": {},
   "source": [
    "Now that we know that <code>user2</code> has the most similar preferences to <code>user0</code>, we extract restaurants in <code>user2</code>'s lists of preferences that are not in <code>user0</code>'s preferences to make recommendations."
   ]
  },
  {
   "cell_type": "code",
   "execution_count": 37,
   "metadata": {},
   "outputs": [
    {
     "data": {
      "text/plain": [
       "{'Colonie',\n",
       " \"Dellarocco's\",\n",
       " 'Iron Chef House',\n",
       " 'Lillo',\n",
       " 'Oh! Dumplings',\n",
       " \"Rocco's Tacos and Tequila Bar Brooklyn\",\n",
       " 'Sushi Gallery',\n",
       " 'Yemen Cafe'}"
      ]
     },
     "execution_count": 37,
     "metadata": {},
     "output_type": "execute_result"
    }
   ],
   "source": [
    "A = set(user_df['good restaurants'][user_df['users']=='user0'].tolist()[0])\n",
    "B = set(user_df['good restaurants'][user_df['users']=='user2'].tolist()[0])\n",
    "B-A"
   ]
  },
  {
   "cell_type": "code",
   "execution_count": null,
   "metadata": {
    "collapsed": true
   },
   "outputs": [],
   "source": []
  },
  {
   "cell_type": "code",
   "execution_count": null,
   "metadata": {
    "collapsed": true
   },
   "outputs": [],
   "source": []
  }
 ],
 "metadata": {
  "kernelspec": {
   "display_name": "Python 3",
   "language": "python",
   "name": "python3"
  }
 },
 "nbformat": 4,
 "nbformat_minor": 2
}
